{
  "nbformat": 4,
  "nbformat_minor": 0,
  "metadata": {
    "colab": {
      "name": "Eclat.ipynb",
      "provenance": [],
      "authorship_tag": "ABX9TyPYsVWfhzXmF+9pmuNPMyYi",
      "include_colab_link": true
    },
    "kernelspec": {
      "name": "python3",
      "display_name": "Python 3"
    },
    "language_info": {
      "name": "python"
    }
  },
  "cells": [
    {
      "cell_type": "markdown",
      "metadata": {
        "id": "view-in-github",
        "colab_type": "text"
      },
      "source": [
        "<a href=\"https://colab.research.google.com/github/Neel7317/Association-Rule/blob/main/Eclat.ipynb\" target=\"_parent\"><img src=\"https://colab.research.google.com/assets/colab-badge.svg\" alt=\"Open In Colab\"/></a>"
      ]
    },
    {
      "cell_type": "code",
      "metadata": {
        "id": "WFdA2xIk2RZz"
      },
      "source": [
        "\n",
        "import pandas as pd\n",
        "\n",
        "#df = pd.read_csv('store_data.csv',header=None)"
      ],
      "execution_count": 31,
      "outputs": []
    },
    {
      "cell_type": "code",
      "metadata": {
        "colab": {
          "base_uri": "https://localhost:8080/"
        },
        "id": "_qLz8qVZ2b50",
        "outputId": "f6d91786-c63a-4261-d77a-44c121c41b42"
      },
      "source": [
        "!pip install pyECLAT"
      ],
      "execution_count": 29,
      "outputs": [
        {
          "output_type": "stream",
          "text": [
            "Requirement already satisfied: pyECLAT in /usr/local/lib/python3.7/dist-packages (1.0.2)\n",
            "Requirement already satisfied: numpy>=1.17.4 in /usr/local/lib/python3.7/dist-packages (from pyECLAT) (1.19.5)\n",
            "Requirement already satisfied: pandas>=0.25.3 in /usr/local/lib/python3.7/dist-packages (from pyECLAT) (1.1.5)\n",
            "Requirement already satisfied: tqdm>=4.41.1 in /usr/local/lib/python3.7/dist-packages (from pyECLAT) (4.41.1)\n",
            "Requirement already satisfied: python-dateutil>=2.7.3 in /usr/local/lib/python3.7/dist-packages (from pandas>=0.25.3->pyECLAT) (2.8.1)\n",
            "Requirement already satisfied: pytz>=2017.2 in /usr/local/lib/python3.7/dist-packages (from pandas>=0.25.3->pyECLAT) (2018.9)\n",
            "Requirement already satisfied: six>=1.5 in /usr/local/lib/python3.7/dist-packages (from python-dateutil>=2.7.3->pandas>=0.25.3->pyECLAT) (1.15.0)\n"
          ],
          "name": "stdout"
        }
      ]
    },
    {
      "cell_type": "code",
      "metadata": {
        "id": "yWH-NnTx5GOw"
      },
      "source": [
        "from pyECLAT import ECLAT\n",
        "# Creating Sample Transactions\n",
        "transactions = [\n",
        "    ['Milk', 'Bread', 'Saffron'],\n",
        "    ['Milk', 'Saffron'],\n",
        "    ['Bread', 'Saffron','Wafer'],\n",
        "    ['Bread','Wafer'],\n",
        " ]\n",
        "df=pd.DataFrame.from_records(transactions)\n",
        "# Creating Rules using Eclat\n",
        "Rules=ECLAT(data=df)\n"
      ],
      "execution_count": 42,
      "outputs": []
    },
    {
      "cell_type": "code",
      "metadata": {
        "colab": {
          "base_uri": "https://localhost:8080/"
        },
        "id": "NsW5UAr95TiA",
        "outputId": "55284581-1b88-4821-ae61-c04bd7ec51ab"
      },
      "source": [
        "Rules.df_bin   #generate a binary dataframe, that can be used for other analyzes.\n",
        "Rules.uniq_    #a list with all the names of the different items\n"
      ],
      "execution_count": 43,
      "outputs": [
        {
          "output_type": "execute_result",
          "data": {
            "text/plain": [
              "['Bread', 'Wafer', 'Milk', None, 'Saffron']"
            ]
          },
          "metadata": {
            "tags": []
          },
          "execution_count": 43
        }
      ]
    },
    {
      "cell_type": "code",
      "metadata": {
        "colab": {
          "base_uri": "https://localhost:8080/"
        },
        "id": "8OPOlTTX6bJ8",
        "outputId": "2c1b9ce4-feb8-44a6-a00c-020805281095"
      },
      "source": [
        "get_ECLAT_indexes, get_ECLAT_supports = Rules.fit(min_support=0.08,\n",
        "                                                           min_combination=1,\n",
        "                                                           max_combination=3,\n",
        "                                                           separator=' & ',\n",
        "                                                           verbose=True)"
      ],
      "execution_count": 49,
      "outputs": [
        {
          "output_type": "stream",
          "text": [
            "4it [00:00, 150.86it/s]\n",
            "6it [00:00, 155.30it/s]\n",
            "4it [00:00, 152.56it/s]"
          ],
          "name": "stderr"
        },
        {
          "output_type": "stream",
          "text": [
            "Combination 1 by 1\n",
            "Combination 2 by 2\n",
            "Combination 3 by 3\n"
          ],
          "name": "stdout"
        },
        {
          "output_type": "stream",
          "text": [
            "\n"
          ],
          "name": "stderr"
        }
      ]
    },
    {
      "cell_type": "code",
      "metadata": {
        "colab": {
          "base_uri": "https://localhost:8080/"
        },
        "id": "hqg_tbyU6y8m",
        "outputId": "3d0d9557-e9f0-4ac0-cddd-3309370656a0"
      },
      "source": [
        "get_ECLAT_indexes"
      ],
      "execution_count": 50,
      "outputs": [
        {
          "output_type": "execute_result",
          "data": {
            "text/plain": [
              "{'Bread': [0, 2, 3],\n",
              " 'Bread & Milk': [0],\n",
              " 'Bread & Milk & Saffron': [0],\n",
              " 'Bread & Saffron': [0, 2],\n",
              " 'Bread & Wafer': [2, 3],\n",
              " 'Bread & Wafer & Saffron': [2],\n",
              " 'Milk': [0, 1],\n",
              " 'Milk & Saffron': [0, 1],\n",
              " 'Saffron': [0, 1, 2],\n",
              " 'Wafer': [2, 3],\n",
              " 'Wafer & Saffron': [2]}"
            ]
          },
          "metadata": {
            "tags": []
          },
          "execution_count": 50
        }
      ]
    },
    {
      "cell_type": "code",
      "metadata": {
        "colab": {
          "base_uri": "https://localhost:8080/"
        },
        "id": "vA-CX99R7lqo",
        "outputId": "2c09c617-7762-4213-8b28-f779cda09308"
      },
      "source": [
        "for x in get_ECLAT_indexes.keys():\n",
        "  if (len(get_ECLAT_indexes[x])>1):\n",
        "    print(x) \n",
        "  \n",
        "   "
      ],
      "execution_count": 67,
      "outputs": [
        {
          "output_type": "stream",
          "text": [
            "Bread\n",
            "Wafer\n",
            "Milk\n",
            "Saffron\n",
            "Bread & Wafer\n",
            "Bread & Saffron\n",
            "Milk & Saffron\n"
          ],
          "name": "stdout"
        }
      ]
    },
    {
      "cell_type": "code",
      "metadata": {
        "id": "G9UXFfrGOq5S"
      },
      "source": [
        ""
      ],
      "execution_count": null,
      "outputs": []
    }
  ]
}